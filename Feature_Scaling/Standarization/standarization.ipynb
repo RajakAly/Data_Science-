{
 "cells": [
  {
   "cell_type": "code",
   "execution_count": 213,
   "id": "bbabd3e3",
   "metadata": {},
   "outputs": [],
   "source": [
    "import numpy as np\n",
    "import pandas as pd\n",
    "import matplotlib.pyplot as plt\n",
    "import seaborn as sns"
   ]
  },
  {
   "cell_type": "code",
   "execution_count": 214,
   "id": "e22dfe0f",
   "metadata": {},
   "outputs": [],
   "source": [
    "df=pd.read_csv(r'C:\\Users\\rajak\\OneDrive\\Documents\\DATA\\100-days-of-machine-learning\\day24-standardization\\Social_Network_Ads.csv')"
   ]
  },
  {
   "cell_type": "code",
   "execution_count": 215,
   "id": "43fccb4a",
   "metadata": {},
   "outputs": [
    {
     "data": {
      "text/html": [
       "<div>\n",
       "<style scoped>\n",
       "    .dataframe tbody tr th:only-of-type {\n",
       "        vertical-align: middle;\n",
       "    }\n",
       "\n",
       "    .dataframe tbody tr th {\n",
       "        vertical-align: top;\n",
       "    }\n",
       "\n",
       "    .dataframe thead th {\n",
       "        text-align: right;\n",
       "    }\n",
       "</style>\n",
       "<table border=\"1\" class=\"dataframe\">\n",
       "  <thead>\n",
       "    <tr style=\"text-align: right;\">\n",
       "      <th></th>\n",
       "      <th>User ID</th>\n",
       "      <th>Gender</th>\n",
       "      <th>Age</th>\n",
       "      <th>EstimatedSalary</th>\n",
       "      <th>Purchased</th>\n",
       "    </tr>\n",
       "  </thead>\n",
       "  <tbody>\n",
       "    <tr>\n",
       "      <th>0</th>\n",
       "      <td>15624510</td>\n",
       "      <td>Male</td>\n",
       "      <td>19</td>\n",
       "      <td>19000</td>\n",
       "      <td>0</td>\n",
       "    </tr>\n",
       "    <tr>\n",
       "      <th>1</th>\n",
       "      <td>15810944</td>\n",
       "      <td>Male</td>\n",
       "      <td>35</td>\n",
       "      <td>20000</td>\n",
       "      <td>0</td>\n",
       "    </tr>\n",
       "    <tr>\n",
       "      <th>2</th>\n",
       "      <td>15668575</td>\n",
       "      <td>Female</td>\n",
       "      <td>26</td>\n",
       "      <td>43000</td>\n",
       "      <td>0</td>\n",
       "    </tr>\n",
       "    <tr>\n",
       "      <th>3</th>\n",
       "      <td>15603246</td>\n",
       "      <td>Female</td>\n",
       "      <td>27</td>\n",
       "      <td>57000</td>\n",
       "      <td>0</td>\n",
       "    </tr>\n",
       "    <tr>\n",
       "      <th>4</th>\n",
       "      <td>15804002</td>\n",
       "      <td>Male</td>\n",
       "      <td>19</td>\n",
       "      <td>76000</td>\n",
       "      <td>0</td>\n",
       "    </tr>\n",
       "  </tbody>\n",
       "</table>\n",
       "</div>"
      ],
      "text/plain": [
       "    User ID  Gender  Age  EstimatedSalary  Purchased\n",
       "0  15624510    Male   19            19000          0\n",
       "1  15810944    Male   35            20000          0\n",
       "2  15668575  Female   26            43000          0\n",
       "3  15603246  Female   27            57000          0\n",
       "4  15804002    Male   19            76000          0"
      ]
     },
     "execution_count": 215,
     "metadata": {},
     "output_type": "execute_result"
    }
   ],
   "source": [
    "df.head()"
   ]
  },
  {
   "cell_type": "code",
   "execution_count": 216,
   "id": "09b023a0",
   "metadata": {},
   "outputs": [],
   "source": [
    "df=df.iloc[:,2:]\n"
   ]
  },
  {
   "cell_type": "code",
   "execution_count": 217,
   "id": "247d0fd5",
   "metadata": {},
   "outputs": [],
   "source": [
    "df.sample(5)\n",
    "X=df.drop('Purchased',axis=1)\n",
    "y=df['Purchased']"
   ]
  },
  {
   "cell_type": "code",
   "execution_count": 218,
   "id": "a5c6d26b",
   "metadata": {},
   "outputs": [],
   "source": [
    "from sklearn.model_selection import train_test_split\n",
    "X_train,X_test,y_train,y_test=train_test_split(X,y,test_size=0.3,random_state=10)"
   ]
  },
  {
   "cell_type": "code",
   "execution_count": 219,
   "id": "31049e59",
   "metadata": {},
   "outputs": [
    {
     "data": {
      "text/plain": [
       "(280, 2)"
      ]
     },
     "execution_count": 219,
     "metadata": {},
     "output_type": "execute_result"
    }
   ],
   "source": [
    "X_train.shape"
   ]
  },
  {
   "cell_type": "code",
   "execution_count": 220,
   "id": "7d378290",
   "metadata": {},
   "outputs": [
    {
     "data": {
      "text/plain": [
       "(120, 2)"
      ]
     },
     "execution_count": 220,
     "metadata": {},
     "output_type": "execute_result"
    }
   ],
   "source": [
    "X_test.shape"
   ]
  },
  {
   "cell_type": "markdown",
   "id": "63d114e7",
   "metadata": {},
   "source": [
    "# Standard Scaler"
   ]
  },
  {
   "cell_type": "code",
   "execution_count": 221,
   "id": "70b8ddf2",
   "metadata": {},
   "outputs": [],
   "source": [
    "from sklearn.preprocessing import StandardScaler\n",
    "scaler=StandardScaler()\n"
   ]
  },
  {
   "cell_type": "code",
   "execution_count": 222,
   "id": "bb9c902f",
   "metadata": {},
   "outputs": [
    {
     "data": {
      "text/html": [
       "<style>#sk-container-id-15 {color: black;background-color: white;}#sk-container-id-15 pre{padding: 0;}#sk-container-id-15 div.sk-toggleable {background-color: white;}#sk-container-id-15 label.sk-toggleable__label {cursor: pointer;display: block;width: 100%;margin-bottom: 0;padding: 0.3em;box-sizing: border-box;text-align: center;}#sk-container-id-15 label.sk-toggleable__label-arrow:before {content: \"▸\";float: left;margin-right: 0.25em;color: #696969;}#sk-container-id-15 label.sk-toggleable__label-arrow:hover:before {color: black;}#sk-container-id-15 div.sk-estimator:hover label.sk-toggleable__label-arrow:before {color: black;}#sk-container-id-15 div.sk-toggleable__content {max-height: 0;max-width: 0;overflow: hidden;text-align: left;background-color: #f0f8ff;}#sk-container-id-15 div.sk-toggleable__content pre {margin: 0.2em;color: black;border-radius: 0.25em;background-color: #f0f8ff;}#sk-container-id-15 input.sk-toggleable__control:checked~div.sk-toggleable__content {max-height: 200px;max-width: 100%;overflow: auto;}#sk-container-id-15 input.sk-toggleable__control:checked~label.sk-toggleable__label-arrow:before {content: \"▾\";}#sk-container-id-15 div.sk-estimator input.sk-toggleable__control:checked~label.sk-toggleable__label {background-color: #d4ebff;}#sk-container-id-15 div.sk-label input.sk-toggleable__control:checked~label.sk-toggleable__label {background-color: #d4ebff;}#sk-container-id-15 input.sk-hidden--visually {border: 0;clip: rect(1px 1px 1px 1px);clip: rect(1px, 1px, 1px, 1px);height: 1px;margin: -1px;overflow: hidden;padding: 0;position: absolute;width: 1px;}#sk-container-id-15 div.sk-estimator {font-family: monospace;background-color: #f0f8ff;border: 1px dotted black;border-radius: 0.25em;box-sizing: border-box;margin-bottom: 0.5em;}#sk-container-id-15 div.sk-estimator:hover {background-color: #d4ebff;}#sk-container-id-15 div.sk-parallel-item::after {content: \"\";width: 100%;border-bottom: 1px solid gray;flex-grow: 1;}#sk-container-id-15 div.sk-label:hover label.sk-toggleable__label {background-color: #d4ebff;}#sk-container-id-15 div.sk-serial::before {content: \"\";position: absolute;border-left: 1px solid gray;box-sizing: border-box;top: 0;bottom: 0;left: 50%;z-index: 0;}#sk-container-id-15 div.sk-serial {display: flex;flex-direction: column;align-items: center;background-color: white;padding-right: 0.2em;padding-left: 0.2em;position: relative;}#sk-container-id-15 div.sk-item {position: relative;z-index: 1;}#sk-container-id-15 div.sk-parallel {display: flex;align-items: stretch;justify-content: center;background-color: white;position: relative;}#sk-container-id-15 div.sk-item::before, #sk-container-id-15 div.sk-parallel-item::before {content: \"\";position: absolute;border-left: 1px solid gray;box-sizing: border-box;top: 0;bottom: 0;left: 50%;z-index: -1;}#sk-container-id-15 div.sk-parallel-item {display: flex;flex-direction: column;z-index: 1;position: relative;background-color: white;}#sk-container-id-15 div.sk-parallel-item:first-child::after {align-self: flex-end;width: 50%;}#sk-container-id-15 div.sk-parallel-item:last-child::after {align-self: flex-start;width: 50%;}#sk-container-id-15 div.sk-parallel-item:only-child::after {width: 0;}#sk-container-id-15 div.sk-dashed-wrapped {border: 1px dashed gray;margin: 0 0.4em 0.5em 0.4em;box-sizing: border-box;padding-bottom: 0.4em;background-color: white;}#sk-container-id-15 div.sk-label label {font-family: monospace;font-weight: bold;display: inline-block;line-height: 1.2em;}#sk-container-id-15 div.sk-label-container {text-align: center;}#sk-container-id-15 div.sk-container {/* jupyter's `normalize.less` sets `[hidden] { display: none; }` but bootstrap.min.css set `[hidden] { display: none !important; }` so we also need the `!important` here to be able to override the default hidden behavior on the sphinx rendered scikit-learn.org. See: https://github.com/scikit-learn/scikit-learn/issues/21755 */display: inline-block !important;position: relative;}#sk-container-id-15 div.sk-text-repr-fallback {display: none;}</style><div id=\"sk-container-id-15\" class=\"sk-top-container\"><div class=\"sk-text-repr-fallback\"><pre>StandardScaler()</pre><b>In a Jupyter environment, please rerun this cell to show the HTML representation or trust the notebook. <br />On GitHub, the HTML representation is unable to render, please try loading this page with nbviewer.org.</b></div><div class=\"sk-container\" hidden><div class=\"sk-item\"><div class=\"sk-estimator sk-toggleable\"><input class=\"sk-toggleable__control sk-hidden--visually\" id=\"sk-estimator-id-15\" type=\"checkbox\" checked><label for=\"sk-estimator-id-15\" class=\"sk-toggleable__label sk-toggleable__label-arrow\">StandardScaler</label><div class=\"sk-toggleable__content\"><pre>StandardScaler()</pre></div></div></div></div></div>"
      ],
      "text/plain": [
       "StandardScaler()"
      ]
     },
     "execution_count": 222,
     "metadata": {},
     "output_type": "execute_result"
    }
   ],
   "source": [
    "scaler.fit(X_train)"
   ]
  },
  {
   "cell_type": "code",
   "execution_count": 223,
   "id": "ecb91f64",
   "metadata": {},
   "outputs": [],
   "source": [
    "X_train_scaled=scaler.fit_transform(X_train)\n",
    "X_test_scaled=scaler.transform(X_test)\n"
   ]
  },
  {
   "cell_type": "code",
   "execution_count": 224,
   "id": "c7940122",
   "metadata": {},
   "outputs": [
    {
     "data": {
      "text/plain": [
       "array([3.75821429e+01, 7.01035714e+04])"
      ]
     },
     "execution_count": 224,
     "metadata": {},
     "output_type": "execute_result"
    }
   ],
   "source": [
    "scaler.mean_"
   ]
  },
  {
   "cell_type": "code",
   "execution_count": 225,
   "id": "465de73b",
   "metadata": {},
   "outputs": [
    {
     "data": {
      "text/html": [
       "<div>\n",
       "<style scoped>\n",
       "    .dataframe tbody tr th:only-of-type {\n",
       "        vertical-align: middle;\n",
       "    }\n",
       "\n",
       "    .dataframe tbody tr th {\n",
       "        vertical-align: top;\n",
       "    }\n",
       "\n",
       "    .dataframe thead th {\n",
       "        text-align: right;\n",
       "    }\n",
       "</style>\n",
       "<table border=\"1\" class=\"dataframe\">\n",
       "  <thead>\n",
       "    <tr style=\"text-align: right;\">\n",
       "      <th></th>\n",
       "      <th>Age</th>\n",
       "      <th>EstimatedSalary</th>\n",
       "    </tr>\n",
       "  </thead>\n",
       "  <tbody>\n",
       "    <tr>\n",
       "      <th>399</th>\n",
       "      <td>49</td>\n",
       "      <td>36000</td>\n",
       "    </tr>\n",
       "    <tr>\n",
       "      <th>25</th>\n",
       "      <td>47</td>\n",
       "      <td>20000</td>\n",
       "    </tr>\n",
       "    <tr>\n",
       "      <th>279</th>\n",
       "      <td>50</td>\n",
       "      <td>36000</td>\n",
       "    </tr>\n",
       "    <tr>\n",
       "      <th>260</th>\n",
       "      <td>35</td>\n",
       "      <td>77000</td>\n",
       "    </tr>\n",
       "    <tr>\n",
       "      <th>130</th>\n",
       "      <td>31</td>\n",
       "      <td>58000</td>\n",
       "    </tr>\n",
       "    <tr>\n",
       "      <th>...</th>\n",
       "      <td>...</td>\n",
       "      <td>...</td>\n",
       "    </tr>\n",
       "    <tr>\n",
       "      <th>369</th>\n",
       "      <td>54</td>\n",
       "      <td>26000</td>\n",
       "    </tr>\n",
       "    <tr>\n",
       "      <th>320</th>\n",
       "      <td>52</td>\n",
       "      <td>138000</td>\n",
       "    </tr>\n",
       "    <tr>\n",
       "      <th>15</th>\n",
       "      <td>29</td>\n",
       "      <td>80000</td>\n",
       "    </tr>\n",
       "    <tr>\n",
       "      <th>125</th>\n",
       "      <td>39</td>\n",
       "      <td>61000</td>\n",
       "    </tr>\n",
       "    <tr>\n",
       "      <th>265</th>\n",
       "      <td>42</td>\n",
       "      <td>108000</td>\n",
       "    </tr>\n",
       "  </tbody>\n",
       "</table>\n",
       "<p>280 rows × 2 columns</p>\n",
       "</div>"
      ],
      "text/plain": [
       "     Age  EstimatedSalary\n",
       "399   49            36000\n",
       "25    47            20000\n",
       "279   50            36000\n",
       "260   35            77000\n",
       "130   31            58000\n",
       "..   ...              ...\n",
       "369   54            26000\n",
       "320   52           138000\n",
       "15    29            80000\n",
       "125   39            61000\n",
       "265   42           108000\n",
       "\n",
       "[280 rows x 2 columns]"
      ]
     },
     "execution_count": 225,
     "metadata": {},
     "output_type": "execute_result"
    }
   ],
   "source": [
    "X_train"
   ]
  },
  {
   "cell_type": "code",
   "execution_count": 226,
   "id": "f20a0e8e",
   "metadata": {},
   "outputs": [
    {
     "data": {
      "text/plain": [
       "array([[ 1.10639192, -0.98126643],\n",
       "       [ 0.91259164, -1.44163648],\n",
       "       [ 1.20329206, -0.98126643],\n",
       "       [-0.25021   ,  0.19843182],\n",
       "       [-0.63781054, -0.34825761],\n",
       "       [ 0.42809096, -0.17561884],\n",
       "       [ 0.5249911 ,  1.69463449],\n",
       "       [ 0.71879137, -1.38409022],\n",
       "       [-0.83161082, -0.77985453],\n",
       "       [ 1.97849315,  0.71634813],\n",
       "       [ 0.33119082, -0.54966951],\n",
       "       [-0.25021   ,  0.77389439],\n",
       "       [-0.83161082,  0.14088557],\n",
       "       [ 0.23429069, -0.37703074],\n",
       "       [ 0.33119082, -1.1539052 ],\n",
       "       [ 1.88159301,  0.11211244],\n",
       "       [ 0.71879137, -1.09635894],\n",
       "       [-0.44401027, -1.21145146],\n",
       "       [-0.25021   ,  2.21255079],\n",
       "       [-0.25021   , -0.26193823],\n",
       "       [ 0.13739055,  0.08333931],\n",
       "       [ 1.10639192,  0.54370936],\n",
       "       [ 1.00949178, -1.1539052 ],\n",
       "       [ 1.30019219,  2.18377766],\n",
       "       [-1.02541109,  0.74512126],\n",
       "       [ 1.5908926 ,  0.97530628],\n",
       "       [-0.25021   , -1.24022458],\n",
       "       [ 0.33119082,  0.05456618],\n",
       "       [ 1.00949178, -1.18267833],\n",
       "       [ 0.81569151,  0.74512126],\n",
       "       [ 0.23429069, -0.26193823],\n",
       "       [-1.12231123,  0.45738998],\n",
       "       [-1.02541109, -0.34825761],\n",
       "       [-0.34711013,  0.05456618],\n",
       "       [ 1.97849315, -0.92372017],\n",
       "       [ 0.91259164, -0.54966951],\n",
       "       [ 1.68779274,  1.57954197],\n",
       "       [-1.80061218, -1.41286335],\n",
       "       [ 1.30019219, -1.3553171 ],\n",
       "       [ 1.39709233,  2.29887018],\n",
       "       [-1.02541109, -1.44163648],\n",
       "       [ 0.91259164, -0.60721576],\n",
       "       [ 0.81569151,  1.34935695],\n",
       "       [-1.12231123, -1.01003956],\n",
       "       [-1.80061218, -1.29777084],\n",
       "       [-1.12231123, -1.09635894],\n",
       "       [-0.63781054,  0.54370936],\n",
       "       [ 1.20329206,  0.51493623],\n",
       "       [-1.50991177, -1.49918274],\n",
       "       [-0.25021   ,  0.02579305],\n",
       "       [-0.34711013,  1.20549131],\n",
       "       [ 0.33119082,  0.25597808],\n",
       "       [ 0.13739055,  0.02579305],\n",
       "       [ 0.23429069,  0.14088557],\n",
       "       [-0.83161082, -0.26193823],\n",
       "       [-1.12231123,  0.05456618],\n",
       "       [-0.05640972,  1.92481951],\n",
       "       [-0.44401027, -0.29071136],\n",
       "       [-0.05640972, -0.52089638],\n",
       "       [-0.92851095, -1.09635894],\n",
       "       [-0.73471068,  0.4861631 ],\n",
       "       [-0.15330986, -0.52089638],\n",
       "       [ 1.00949178,  0.11211244],\n",
       "       [-1.50991177, -0.20439197],\n",
       "       [-0.25021   ,  0.05456618],\n",
       "       [-1.80061218, -1.47040961],\n",
       "       [-1.3161115 , -1.09635894],\n",
       "       [-0.25021   , -0.37703074],\n",
       "       [ 0.81569151,  0.11211244],\n",
       "       [-0.15330986,  1.37813008],\n",
       "       [-1.3161115 , -0.434577  ],\n",
       "       [ 0.91259164,  1.06162567],\n",
       "       [ 0.42809096,  2.27009705],\n",
       "       [-0.15330986,  1.57954197],\n",
       "       [-0.25021   ,  0.51493623],\n",
       "       [-0.63781054, -1.58550212],\n",
       "       [ 0.13739055,  1.83850013],\n",
       "       [-1.02541109,  0.54370936],\n",
       "       [-0.54091041,  1.43567633],\n",
       "       [-1.12231123,  0.39984372],\n",
       "       [-0.25021   ,  0.25597808],\n",
       "       [ 0.42809096,  0.08333931],\n",
       "       [ 1.5908926 ,  1.0903988 ],\n",
       "       [ 0.42809096, -0.00298007],\n",
       "       [ 0.23429069,  0.05456618],\n",
       "       [-1.70371205, -0.98126643],\n",
       "       [-1.70371205,  0.34229746],\n",
       "       [-1.3161115 , -0.434577  ],\n",
       "       [-0.05640972, -0.00298007],\n",
       "       [-0.54091041,  0.86021377],\n",
       "       [-1.21921136,  0.25597808],\n",
       "       [-0.25021   ,  0.05456618],\n",
       "       [-0.05640972, -1.06758582],\n",
       "       [ 0.13739055,  0.14088557],\n",
       "       [ 0.04049041, -0.434577  ],\n",
       "       [-0.25021   , -0.66476202],\n",
       "       [-0.73471068, -0.2331651 ],\n",
       "       [ 1.97849315,  2.12623141],\n",
       "       [ 0.23429069,  0.02579305],\n",
       "       [-0.25021   ,  0.14088557],\n",
       "       [ 0.04049041,  0.02579305],\n",
       "       [ 0.5249911 ,  1.809727  ],\n",
       "       [-1.80061218, -0.00298007],\n",
       "       [-1.12231123, -0.77985453],\n",
       "       [-0.73471068,  1.06162567],\n",
       "       [ 0.23429069, -0.37703074],\n",
       "       [ 0.04049041,  1.23426444],\n",
       "       [-0.25021   ,  0.14088557],\n",
       "       [-0.15330986,  0.14088557],\n",
       "       [-1.12231123,  0.28475121],\n",
       "       [ 0.42809096,  0.97530628],\n",
       "       [-0.73471068,  0.25597808],\n",
       "       [ 1.97849315,  0.8889869 ],\n",
       "       [-1.12231123, -1.55672899],\n",
       "       [ 1.10639192, -1.21145146],\n",
       "       [ 0.42809096, -0.46335012],\n",
       "       [-1.60681191, -1.55672899],\n",
       "       [ 1.00949178,  1.75218074],\n",
       "       [-0.54091041,  2.29887018],\n",
       "       [-0.25021   , -0.14684571],\n",
       "       [-0.44401027,  2.27009705],\n",
       "       [-0.73471068,  1.32058382],\n",
       "       [-1.02541109, -1.12513207],\n",
       "       [-0.83161082, -0.77985453],\n",
       "       [-0.05640972, -0.37703074],\n",
       "       [ 2.17229342,  1.0903988 ],\n",
       "       [-0.15330986, -0.46335012],\n",
       "       [-1.21921136,  0.57248249],\n",
       "       [-0.83161082, -0.66476202],\n",
       "       [ 2.17229342, -0.69353515],\n",
       "       [-1.3161115 ,  0.39984372],\n",
       "       [ 0.71879137,  1.75218074],\n",
       "       [ 1.00949178,  1.95359264],\n",
       "       [ 1.68779274,  1.72340761],\n",
       "       [-0.15330986, -0.57844264],\n",
       "       [ 0.23429069,  0.22720495],\n",
       "       [ 0.13739055, -0.31948448],\n",
       "       [-0.63781054,  0.11211244],\n",
       "       [ 1.39709233,  0.57248249],\n",
       "       [-0.25021   , -0.34825761],\n",
       "       [-1.70371205,  0.34229746],\n",
       "       [ 1.88159301, -0.29071136],\n",
       "       [ 0.04049041, -0.57844264],\n",
       "       [-0.83161082,  2.24132392],\n",
       "       [ 1.00949178, -1.01003956],\n",
       "       [ 0.42809096,  0.28475121],\n",
       "       [-0.25021   , -0.29071136],\n",
       "       [-0.34711013,  1.29181069],\n",
       "       [ 1.10639192,  0.51493623],\n",
       "       [-0.05640972,  0.11211244],\n",
       "       [ 0.23429069, -0.37703074],\n",
       "       [ 0.13739055,  0.25597808],\n",
       "       [-0.73471068,  1.86727326],\n",
       "       [-0.15330986,  0.83144064],\n",
       "       [ 0.42809096,  0.14088557],\n",
       "       [-0.15330986, -0.29071136],\n",
       "       [-1.70371205, -0.60721576],\n",
       "       [-0.25021   , -0.75108141],\n",
       "       [-1.41301164,  0.34229746],\n",
       "       [-0.25021   , -1.29777084],\n",
       "       [ 1.00949178, -0.83740079],\n",
       "       [ 1.20329206, -0.75108141],\n",
       "       [ 0.33119082,  0.05456618],\n",
       "       [ 0.04049041, -0.57844264],\n",
       "       [-0.54091041,  1.86727326],\n",
       "       [ 0.91259164,  1.23426444],\n",
       "       [-0.34711013, -1.29777084],\n",
       "       [ 0.81569151, -1.38409022],\n",
       "       [ 2.07539329, -1.18267833],\n",
       "       [ 1.49399247, -1.03881269],\n",
       "       [-1.50991177,  0.31352434],\n",
       "       [-0.44401027, -0.54966951],\n",
       "       [ 1.10639192,  0.45738998],\n",
       "       [ 0.5249911 ,  1.20549131],\n",
       "       [ 0.33119082, -0.29071136],\n",
       "       [-0.25021   , -1.3553171 ],\n",
       "       [-1.3161115 , -1.3553171 ],\n",
       "       [ 0.13739055,  1.03285254],\n",
       "       [ 0.91259164, -1.3553171 ],\n",
       "       [-0.25021   , -0.434577  ],\n",
       "       [-1.89751232, -0.75108141],\n",
       "       [-1.89751232,  0.34229746],\n",
       "       [ 0.33119082, -0.52089638],\n",
       "       [ 2.17229342, -0.80862766],\n",
       "       [-0.05640972,  0.65880187],\n",
       "       [-1.02541109, -0.37703074],\n",
       "       [ 0.71879137, -1.38409022],\n",
       "       [-0.73471068, -1.52795587],\n",
       "       [-1.89751232,  0.45738998],\n",
       "       [ 1.10639192,  0.11211244],\n",
       "       [-1.41301164, -1.44163648],\n",
       "       [ 0.23429069, -0.14684571],\n",
       "       [ 0.81569151,  0.25597808],\n",
       "       [ 0.42809096, -0.46335012],\n",
       "       [-0.05640972,  0.28475121],\n",
       "       [-0.25021   ,  1.0903988 ],\n",
       "       [ 0.23429069,  1.06162567],\n",
       "       [-1.12231123, -1.52795587],\n",
       "       [-0.63781054, -0.11807259],\n",
       "       [ 0.33119082,  0.4861631 ],\n",
       "       [ 0.33119082,  0.28475121],\n",
       "       [ 0.91259164,  2.12623141],\n",
       "       [ 0.04049041, -0.26193823],\n",
       "       [-1.12231123, -0.52089638],\n",
       "       [-1.12231123, -1.58550212],\n",
       "       [ 0.04049041,  1.20549131],\n",
       "       [-0.63781054,  1.37813008],\n",
       "       [-0.25021   , -0.57844264],\n",
       "       [-0.92851095, -0.434577  ],\n",
       "       [-0.73471068,  0.54370936],\n",
       "       [ 2.07539329,  0.16965869],\n",
       "       [ 0.13739055,  1.83850013],\n",
       "       [-0.54091041,  1.34935695],\n",
       "       [ 1.30019219,  1.83850013],\n",
       "       [ 0.33119082, -0.20439197],\n",
       "       [-1.80061218,  0.16965869],\n",
       "       [-1.60681191, -0.06052633],\n",
       "       [-0.92851095,  0.39984372],\n",
       "       [ 0.62189123, -0.89494705],\n",
       "       [-0.05640972,  0.22720495],\n",
       "       [ 1.00949178,  2.03991202],\n",
       "       [ 0.33119082,  0.02579305],\n",
       "       [-1.41301164, -0.20439197],\n",
       "       [-1.3161115 ,  0.54370936],\n",
       "       [ 1.00949178, -1.06758582],\n",
       "       [-1.3161115 , -1.24022458],\n",
       "       [ 0.23429069, -0.31948448],\n",
       "       [ 0.81569151, -1.09635894],\n",
       "       [ 1.20329206, -1.44163648],\n",
       "       [ 1.10639192, -0.14684571],\n",
       "       [-0.54091041, -1.49918274],\n",
       "       [ 2.17229342, -0.80862766],\n",
       "       [ 0.33119082, -0.52089638],\n",
       "       [-0.83161082,  0.37107059],\n",
       "       [ 1.10639192, -0.89494705],\n",
       "       [-0.83161082, -1.21145146],\n",
       "       [ 0.81569151, -1.21145146],\n",
       "       [ 1.39709233, -1.41286335],\n",
       "       [ 1.68779274, -0.89494705],\n",
       "       [ 1.10639192,  2.03991202],\n",
       "       [-1.02541109,  1.92481951],\n",
       "       [ 1.49399247,  0.34229746],\n",
       "       [-1.80061218,  0.42861685],\n",
       "       [-0.25021   , -0.57844264],\n",
       "       [-1.12231123, -1.1539052 ],\n",
       "       [-0.05640972, -0.2331651 ],\n",
       "       [ 0.04049041, -0.14684571],\n",
       "       [ 0.13739055,  0.19843182],\n",
       "       [-1.89751232, -0.06052633],\n",
       "       [ 1.78469288,  0.97530628],\n",
       "       [-0.54091041, -1.49918274],\n",
       "       [-1.50991177, -1.24022458],\n",
       "       [ 0.62189123,  1.98236577],\n",
       "       [-0.63781054, -1.03881269],\n",
       "       [-1.21921136, -1.38409022],\n",
       "       [ 1.88159301, -1.06758582],\n",
       "       [-0.25021   , -0.89494705],\n",
       "       [-0.92851095, -0.75108141],\n",
       "       [-1.41301164, -0.11807259],\n",
       "       [ 0.23429069,  0.14088557],\n",
       "       [ 0.42809096,  0.25597808],\n",
       "       [ 0.91259164,  1.00407941],\n",
       "       [-1.02541109, -0.34825761],\n",
       "       [ 1.49399247,  2.09745828],\n",
       "       [ 1.5908926 , -0.00298007],\n",
       "       [ 0.91259164, -1.29777084],\n",
       "       [ 2.17229342,  0.37107059],\n",
       "       [-1.02541109, -1.52795587],\n",
       "       [ 0.33119082,  0.05456618],\n",
       "       [-0.44401027,  1.23426444],\n",
       "       [-1.21921136, -1.06758582],\n",
       "       [ 0.81569151, -0.83740079],\n",
       "       [-0.25021   ,  0.60125562],\n",
       "       [ 0.81569151, -0.31948448],\n",
       "       [-0.25021   , -0.49212325],\n",
       "       [ 1.5908926 , -1.26899771],\n",
       "       [ 1.39709233,  1.95359264],\n",
       "       [-0.83161082,  0.28475121],\n",
       "       [ 0.13739055, -0.26193823],\n",
       "       [ 0.42809096,  1.0903988 ]])"
      ]
     },
     "execution_count": 226,
     "metadata": {},
     "output_type": "execute_result"
    }
   ],
   "source": [
    "X_train_scaled"
   ]
  },
  {
   "cell_type": "code",
   "execution_count": 227,
   "id": "8b8d4a26",
   "metadata": {},
   "outputs": [
    {
     "data": {
      "text/html": [
       "<div>\n",
       "<style scoped>\n",
       "    .dataframe tbody tr th:only-of-type {\n",
       "        vertical-align: middle;\n",
       "    }\n",
       "\n",
       "    .dataframe tbody tr th {\n",
       "        vertical-align: top;\n",
       "    }\n",
       "\n",
       "    .dataframe thead th {\n",
       "        text-align: right;\n",
       "    }\n",
       "</style>\n",
       "<table border=\"1\" class=\"dataframe\">\n",
       "  <thead>\n",
       "    <tr style=\"text-align: right;\">\n",
       "      <th></th>\n",
       "      <th>Age</th>\n",
       "      <th>EstimatedSalary</th>\n",
       "    </tr>\n",
       "  </thead>\n",
       "  <tbody>\n",
       "    <tr>\n",
       "      <th>0</th>\n",
       "      <td>1.106392</td>\n",
       "      <td>-0.981266</td>\n",
       "    </tr>\n",
       "    <tr>\n",
       "      <th>1</th>\n",
       "      <td>0.912592</td>\n",
       "      <td>-1.441636</td>\n",
       "    </tr>\n",
       "    <tr>\n",
       "      <th>2</th>\n",
       "      <td>1.203292</td>\n",
       "      <td>-0.981266</td>\n",
       "    </tr>\n",
       "    <tr>\n",
       "      <th>3</th>\n",
       "      <td>-0.250210</td>\n",
       "      <td>0.198432</td>\n",
       "    </tr>\n",
       "    <tr>\n",
       "      <th>4</th>\n",
       "      <td>-0.637811</td>\n",
       "      <td>-0.348258</td>\n",
       "    </tr>\n",
       "    <tr>\n",
       "      <th>...</th>\n",
       "      <td>...</td>\n",
       "      <td>...</td>\n",
       "    </tr>\n",
       "    <tr>\n",
       "      <th>275</th>\n",
       "      <td>1.590893</td>\n",
       "      <td>-1.268998</td>\n",
       "    </tr>\n",
       "    <tr>\n",
       "      <th>276</th>\n",
       "      <td>1.397092</td>\n",
       "      <td>1.953593</td>\n",
       "    </tr>\n",
       "    <tr>\n",
       "      <th>277</th>\n",
       "      <td>-0.831611</td>\n",
       "      <td>0.284751</td>\n",
       "    </tr>\n",
       "    <tr>\n",
       "      <th>278</th>\n",
       "      <td>0.137391</td>\n",
       "      <td>-0.261938</td>\n",
       "    </tr>\n",
       "    <tr>\n",
       "      <th>279</th>\n",
       "      <td>0.428091</td>\n",
       "      <td>1.090399</td>\n",
       "    </tr>\n",
       "  </tbody>\n",
       "</table>\n",
       "<p>280 rows × 2 columns</p>\n",
       "</div>"
      ],
      "text/plain": [
       "          Age  EstimatedSalary\n",
       "0    1.106392        -0.981266\n",
       "1    0.912592        -1.441636\n",
       "2    1.203292        -0.981266\n",
       "3   -0.250210         0.198432\n",
       "4   -0.637811        -0.348258\n",
       "..        ...              ...\n",
       "275  1.590893        -1.268998\n",
       "276  1.397092         1.953593\n",
       "277 -0.831611         0.284751\n",
       "278  0.137391        -0.261938\n",
       "279  0.428091         1.090399\n",
       "\n",
       "[280 rows x 2 columns]"
      ]
     },
     "execution_count": 227,
     "metadata": {},
     "output_type": "execute_result"
    }
   ],
   "source": [
    "X_train_scaled=pd.DataFrame(X_train_scaled,columns=X_train.columns)\n",
    "X_train_scaled"
   ]
  },
  {
   "cell_type": "code",
   "execution_count": 228,
   "id": "717c6275",
   "metadata": {},
   "outputs": [
    {
     "data": {
      "text/html": [
       "<div>\n",
       "<style scoped>\n",
       "    .dataframe tbody tr th:only-of-type {\n",
       "        vertical-align: middle;\n",
       "    }\n",
       "\n",
       "    .dataframe tbody tr th {\n",
       "        vertical-align: top;\n",
       "    }\n",
       "\n",
       "    .dataframe thead th {\n",
       "        text-align: right;\n",
       "    }\n",
       "</style>\n",
       "<table border=\"1\" class=\"dataframe\">\n",
       "  <thead>\n",
       "    <tr style=\"text-align: right;\">\n",
       "      <th></th>\n",
       "      <th>Age</th>\n",
       "      <th>EstimatedSalary</th>\n",
       "    </tr>\n",
       "  </thead>\n",
       "  <tbody>\n",
       "    <tr>\n",
       "      <th>332</th>\n",
       "      <td>42</td>\n",
       "      <td>65000</td>\n",
       "    </tr>\n",
       "    <tr>\n",
       "      <th>111</th>\n",
       "      <td>37</td>\n",
       "      <td>71000</td>\n",
       "    </tr>\n",
       "    <tr>\n",
       "      <th>352</th>\n",
       "      <td>42</td>\n",
       "      <td>90000</td>\n",
       "    </tr>\n",
       "    <tr>\n",
       "      <th>205</th>\n",
       "      <td>47</td>\n",
       "      <td>47000</td>\n",
       "    </tr>\n",
       "    <tr>\n",
       "      <th>56</th>\n",
       "      <td>23</td>\n",
       "      <td>48000</td>\n",
       "    </tr>\n",
       "    <tr>\n",
       "      <th>...</th>\n",
       "      <td>...</td>\n",
       "      <td>...</td>\n",
       "    </tr>\n",
       "    <tr>\n",
       "      <th>17</th>\n",
       "      <td>45</td>\n",
       "      <td>26000</td>\n",
       "    </tr>\n",
       "    <tr>\n",
       "      <th>225</th>\n",
       "      <td>37</td>\n",
       "      <td>53000</td>\n",
       "    </tr>\n",
       "    <tr>\n",
       "      <th>223</th>\n",
       "      <td>60</td>\n",
       "      <td>102000</td>\n",
       "    </tr>\n",
       "    <tr>\n",
       "      <th>59</th>\n",
       "      <td>32</td>\n",
       "      <td>117000</td>\n",
       "    </tr>\n",
       "    <tr>\n",
       "      <th>114</th>\n",
       "      <td>42</td>\n",
       "      <td>80000</td>\n",
       "    </tr>\n",
       "  </tbody>\n",
       "</table>\n",
       "<p>120 rows × 2 columns</p>\n",
       "</div>"
      ],
      "text/plain": [
       "     Age  EstimatedSalary\n",
       "332   42            65000\n",
       "111   37            71000\n",
       "352   42            90000\n",
       "205   47            47000\n",
       "56    23            48000\n",
       "..   ...              ...\n",
       "17    45            26000\n",
       "225   37            53000\n",
       "223   60           102000\n",
       "59    32           117000\n",
       "114   42            80000\n",
       "\n",
       "[120 rows x 2 columns]"
      ]
     },
     "execution_count": 228,
     "metadata": {},
     "output_type": "execute_result"
    }
   ],
   "source": [
    "X_test_scaled=pd.DataFrame(X_test,columns=X_test.columns)\n",
    "X_test_scaled"
   ]
  },
  {
   "cell_type": "code",
   "execution_count": 229,
   "id": "517a3c14",
   "metadata": {},
   "outputs": [
    {
     "data": {
      "text/html": [
       "<div>\n",
       "<style scoped>\n",
       "    .dataframe tbody tr th:only-of-type {\n",
       "        vertical-align: middle;\n",
       "    }\n",
       "\n",
       "    .dataframe tbody tr th {\n",
       "        vertical-align: top;\n",
       "    }\n",
       "\n",
       "    .dataframe thead th {\n",
       "        text-align: right;\n",
       "    }\n",
       "</style>\n",
       "<table border=\"1\" class=\"dataframe\">\n",
       "  <thead>\n",
       "    <tr style=\"text-align: right;\">\n",
       "      <th></th>\n",
       "      <th>Age</th>\n",
       "      <th>EstimatedSalary</th>\n",
       "    </tr>\n",
       "  </thead>\n",
       "  <tbody>\n",
       "    <tr>\n",
       "      <th>count</th>\n",
       "      <td>280.00</td>\n",
       "      <td>280.00</td>\n",
       "    </tr>\n",
       "    <tr>\n",
       "      <th>mean</th>\n",
       "      <td>37.58</td>\n",
       "      <td>70103.57</td>\n",
       "    </tr>\n",
       "    <tr>\n",
       "      <th>std</th>\n",
       "      <td>10.34</td>\n",
       "      <td>34816.88</td>\n",
       "    </tr>\n",
       "    <tr>\n",
       "      <th>min</th>\n",
       "      <td>18.00</td>\n",
       "      <td>15000.00</td>\n",
       "    </tr>\n",
       "    <tr>\n",
       "      <th>25%</th>\n",
       "      <td>30.00</td>\n",
       "      <td>43000.00</td>\n",
       "    </tr>\n",
       "    <tr>\n",
       "      <th>50%</th>\n",
       "      <td>37.00</td>\n",
       "      <td>70000.00</td>\n",
       "    </tr>\n",
       "    <tr>\n",
       "      <th>75%</th>\n",
       "      <td>46.00</td>\n",
       "      <td>88250.00</td>\n",
       "    </tr>\n",
       "    <tr>\n",
       "      <th>max</th>\n",
       "      <td>60.00</td>\n",
       "      <td>150000.00</td>\n",
       "    </tr>\n",
       "  </tbody>\n",
       "</table>\n",
       "</div>"
      ],
      "text/plain": [
       "          Age  EstimatedSalary\n",
       "count  280.00           280.00\n",
       "mean    37.58         70103.57\n",
       "std     10.34         34816.88\n",
       "min     18.00         15000.00\n",
       "25%     30.00         43000.00\n",
       "50%     37.00         70000.00\n",
       "75%     46.00         88250.00\n",
       "max     60.00        150000.00"
      ]
     },
     "execution_count": 229,
     "metadata": {},
     "output_type": "execute_result"
    }
   ],
   "source": [
    "np.round(X_train.describe(),2)"
   ]
  },
  {
   "cell_type": "code",
   "execution_count": 230,
   "id": "4f861a6d",
   "metadata": {},
   "outputs": [
    {
     "data": {
      "text/html": [
       "<div>\n",
       "<style scoped>\n",
       "    .dataframe tbody tr th:only-of-type {\n",
       "        vertical-align: middle;\n",
       "    }\n",
       "\n",
       "    .dataframe tbody tr th {\n",
       "        vertical-align: top;\n",
       "    }\n",
       "\n",
       "    .dataframe thead th {\n",
       "        text-align: right;\n",
       "    }\n",
       "</style>\n",
       "<table border=\"1\" class=\"dataframe\">\n",
       "  <thead>\n",
       "    <tr style=\"text-align: right;\">\n",
       "      <th></th>\n",
       "      <th>Age</th>\n",
       "      <th>EstimatedSalary</th>\n",
       "    </tr>\n",
       "  </thead>\n",
       "  <tbody>\n",
       "    <tr>\n",
       "      <th>count</th>\n",
       "      <td>280.00</td>\n",
       "      <td>280.00</td>\n",
       "    </tr>\n",
       "    <tr>\n",
       "      <th>mean</th>\n",
       "      <td>0.00</td>\n",
       "      <td>-0.00</td>\n",
       "    </tr>\n",
       "    <tr>\n",
       "      <th>std</th>\n",
       "      <td>1.00</td>\n",
       "      <td>1.00</td>\n",
       "    </tr>\n",
       "    <tr>\n",
       "      <th>min</th>\n",
       "      <td>-1.90</td>\n",
       "      <td>-1.59</td>\n",
       "    </tr>\n",
       "    <tr>\n",
       "      <th>25%</th>\n",
       "      <td>-0.73</td>\n",
       "      <td>-0.78</td>\n",
       "    </tr>\n",
       "    <tr>\n",
       "      <th>50%</th>\n",
       "      <td>-0.06</td>\n",
       "      <td>-0.00</td>\n",
       "    </tr>\n",
       "    <tr>\n",
       "      <th>75%</th>\n",
       "      <td>0.82</td>\n",
       "      <td>0.52</td>\n",
       "    </tr>\n",
       "    <tr>\n",
       "      <th>max</th>\n",
       "      <td>2.17</td>\n",
       "      <td>2.30</td>\n",
       "    </tr>\n",
       "  </tbody>\n",
       "</table>\n",
       "</div>"
      ],
      "text/plain": [
       "          Age  EstimatedSalary\n",
       "count  280.00           280.00\n",
       "mean     0.00            -0.00\n",
       "std      1.00             1.00\n",
       "min     -1.90            -1.59\n",
       "25%     -0.73            -0.78\n",
       "50%     -0.06            -0.00\n",
       "75%      0.82             0.52\n",
       "max      2.17             2.30"
      ]
     },
     "execution_count": 230,
     "metadata": {},
     "output_type": "execute_result"
    }
   ],
   "source": [
    "np.round(X_train_scaled.describe(),2)"
   ]
  },
  {
   "cell_type": "markdown",
   "id": "cccc2d74",
   "metadata": {},
   "source": [
    "# Effect Of Scaling"
   ]
  },
  {
   "cell_type": "code",
   "execution_count": 231,
   "id": "a4d07de6",
   "metadata": {},
   "outputs": [
    {
     "data": {
      "text/plain": [
       "Text(0.5, 1.0, 'After Scaling')"
      ]
     },
     "execution_count": 231,
     "metadata": {},
     "output_type": "execute_result"
    },
    {
     "data": {
      "image/png": "[encoded data removed]",
      "text/plain": [
       "<Figure size 720x360 with 2 Axes>"
      ]
     },
     "metadata": {
      "needs_background": "light"
     },
     "output_type": "display_data"
    }
   ],
   "source": [
    "fig,(ax1,ax2)=plt.subplots(ncols=2,figsize=(10,5))\n",
    "ax1.scatter(X_train['Age'],X_train['EstimatedSalary'])\n",
    "ax1.set_title('Before Scaling')\n",
    "ax2.scatter(X_train_scaled['Age'],X_train_scaled['EstimatedSalary'],color='m')\n",
    "ax2.set_title('After Scaling')"
   ]
  },
  {
   "cell_type": "code",
   "execution_count": 232,
   "id": "fcd9eab6",
   "metadata": {},
   "outputs": [
    {
     "data": {
      "text/plain": [
       "<AxesSubplot:title={'center':'After Scaling'}, xlabel='Age', ylabel='Density'>"
      ]
     },
     "execution_count": 232,
     "metadata": {},
     "output_type": "execute_result"
    },
    {
     "data": {
      "image/png": "[encoded data removed]",
      "text/plain": [
       "<Figure size 864x432 with 2 Axes>"
      ]
     },
     "metadata": {
      "needs_background": "light"
     },
     "output_type": "display_data"
    }
   ],
   "source": [
    "fig,(ax1,ax2)=plt.subplots(ncols=2,figsize=(12,6))\n",
    "ax1.set_title('Before scaling')\n",
    "sns.kdeplot(X_train['Age'],ax=ax1)\n",
    "sns.kdeplot(X_train['EstimatedSalary'],ax=ax1)\n",
    "\n",
    "ax2.set_title('After Scaling')\n",
    "sns.kdeplot(X_train_scaled['Age'],ax=ax2)\n",
    "sns.kdeplot(X_train_scaled['EstimatedSalary'],ax=ax2)"
   ]
  },
  {
   "cell_type": "markdown",
   "id": "52b79606",
   "metadata": {},
   "source": [
    "# Comparision of Distribution"
   ]
  },
  {
   "cell_type": "code",
   "execution_count": 233,
   "id": "4ca8ac23",
   "metadata": {},
   "outputs": [
    {
     "data": {
      "text/plain": [
       "<AxesSubplot:title={'center':'After Scaling'}, xlabel='Age', ylabel='Density'>"
      ]
     },
     "execution_count": 233,
     "metadata": {},
     "output_type": "execute_result"
    },
    {
     "data": {
      "image/png": "[encoded data removed]",
      "text/plain": [
       "<Figure size 864x360 with 2 Axes>"
      ]
     },
     "metadata": {
      "needs_background": "light"
     },
     "output_type": "display_data"
    }
   ],
   "source": [
    "fig,(ax1,ax2)=plt.subplots(ncols=2,figsize=(12,5))\n",
    "ax1.set_title('Before scaling')\n",
    "sns.kdeplot(X_train['Age'],ax=ax1)\n",
    "ax2.set_title('After Scaling')\n",
    "sns.kdeplot(X_train_scaled['Age'],ax=ax2)"
   ]
  },
  {
   "cell_type": "code",
   "execution_count": 234,
   "id": "04442e88",
   "metadata": {},
   "outputs": [
    {
     "data": {
      "text/plain": [
       "<AxesSubplot:title={'center':'After Scaling'}, xlabel='EstimatedSalary', ylabel='Density'>"
      ]
     },
     "execution_count": 234,
     "metadata": {},
     "output_type": "execute_result"
    },
    {
     "data": {
      "image/png": "[encoded data removed]",
      "text/plain": [
       "<Figure size 864x360 with 2 Axes>"
      ]
     },
     "metadata": {
      "needs_background": "light"
     },
     "output_type": "display_data"
    }
   ],
   "source": [
    "fig,(ax1,ax2)=plt.subplots(ncols=2,figsize=(12,5))\n",
    "ax1.set_title('Before scaling')\n",
    "sns.kdeplot(X_train['EstimatedSalary'],ax=ax1)\n",
    "ax2.set_title('After Scaling')\n",
    "sns.kdeplot(X_train_scaled['EstimatedSalary'],ax=ax2)"
   ]
  },
  {
   "cell_type": "markdown",
   "id": "70ffeb96",
   "metadata": {},
   "source": [
    "# Why Scaling is im portant?"
   ]
  },
  {
   "cell_type": "code",
   "execution_count": 235,
   "id": "d5d99bde",
   "metadata": {},
   "outputs": [],
   "source": [
    "from sklearn.linear_model import LogisticRegression "
   ]
  },
  {
   "cell_type": "code",
   "execution_count": 236,
   "id": "901a26d5",
   "metadata": {},
   "outputs": [],
   "source": [
    "lr = LogisticRegression()\n",
    "lr_scaled = LogisticRegression()"
   ]
  },
  {
   "cell_type": "code",
   "execution_count": 237,
   "id": "86591ab3",
   "metadata": {},
   "outputs": [
    {
     "data": {
      "text/html": [
       "<style>#sk-container-id-16 {color: black;background-color: white;}#sk-container-id-16 pre{padding: 0;}#sk-container-id-16 div.sk-toggleable {background-color: white;}#sk-container-id-16 label.sk-toggleable__label {cursor: pointer;display: block;width: 100%;margin-bottom: 0;padding: 0.3em;box-sizing: border-box;text-align: center;}#sk-container-id-16 label.sk-toggleable__label-arrow:before {content: \"▸\";float: left;margin-right: 0.25em;color: #696969;}#sk-container-id-16 label.sk-toggleable__label-arrow:hover:before {color: black;}#sk-container-id-16 div.sk-estimator:hover label.sk-toggleable__label-arrow:before {color: black;}#sk-container-id-16 div.sk-toggleable__content {max-height: 0;max-width: 0;overflow: hidden;text-align: left;background-color: #f0f8ff;}#sk-container-id-16 div.sk-toggleable__content pre {margin: 0.2em;color: black;border-radius: 0.25em;background-color: #f0f8ff;}#sk-container-id-16 input.sk-toggleable__control:checked~div.sk-toggleable__content {max-height: 200px;max-width: 100%;overflow: auto;}#sk-container-id-16 input.sk-toggleable__control:checked~label.sk-toggleable__label-arrow:before {content: \"▾\";}#sk-container-id-16 div.sk-estimator input.sk-toggleable__control:checked~label.sk-toggleable__label {background-color: #d4ebff;}#sk-container-id-16 div.sk-label input.sk-toggleable__control:checked~label.sk-toggleable__label {background-color: #d4ebff;}#sk-container-id-16 input.sk-hidden--visually {border: 0;clip: rect(1px 1px 1px 1px);clip: rect(1px, 1px, 1px, 1px);height: 1px;margin: -1px;overflow: hidden;padding: 0;position: absolute;width: 1px;}#sk-container-id-16 div.sk-estimator {font-family: monospace;background-color: #f0f8ff;border: 1px dotted black;border-radius: 0.25em;box-sizing: border-box;margin-bottom: 0.5em;}#sk-container-id-16 div.sk-estimator:hover {background-color: #d4ebff;}#sk-container-id-16 div.sk-parallel-item::after {content: \"\";width: 100%;border-bottom: 1px solid gray;flex-grow: 1;}#sk-container-id-16 div.sk-label:hover label.sk-toggleable__label {background-color: #d4ebff;}#sk-container-id-16 div.sk-serial::before {content: \"\";position: absolute;border-left: 1px solid gray;box-sizing: border-box;top: 0;bottom: 0;left: 50%;z-index: 0;}#sk-container-id-16 div.sk-serial {display: flex;flex-direction: column;align-items: center;background-color: white;padding-right: 0.2em;padding-left: 0.2em;position: relative;}#sk-container-id-16 div.sk-item {position: relative;z-index: 1;}#sk-container-id-16 div.sk-parallel {display: flex;align-items: stretch;justify-content: center;background-color: white;position: relative;}#sk-container-id-16 div.sk-item::before, #sk-container-id-16 div.sk-parallel-item::before {content: \"\";position: absolute;border-left: 1px solid gray;box-sizing: border-box;top: 0;bottom: 0;left: 50%;z-index: -1;}#sk-container-id-16 div.sk-parallel-item {display: flex;flex-direction: column;z-index: 1;position: relative;background-color: white;}#sk-container-id-16 div.sk-parallel-item:first-child::after {align-self: flex-end;width: 50%;}#sk-container-id-16 div.sk-parallel-item:last-child::after {align-self: flex-start;width: 50%;}#sk-container-id-16 div.sk-parallel-item:only-child::after {width: 0;}#sk-container-id-16 div.sk-dashed-wrapped {border: 1px dashed gray;margin: 0 0.4em 0.5em 0.4em;box-sizing: border-box;padding-bottom: 0.4em;background-color: white;}#sk-container-id-16 div.sk-label label {font-family: monospace;font-weight: bold;display: inline-block;line-height: 1.2em;}#sk-container-id-16 div.sk-label-container {text-align: center;}#sk-container-id-16 div.sk-container {/* jupyter's `normalize.less` sets `[hidden] { display: none; }` but bootstrap.min.css set `[hidden] { display: none !important; }` so we also need the `!important` here to be able to override the default hidden behavior on the sphinx rendered scikit-learn.org. See: https://github.com/scikit-learn/scikit-learn/issues/21755 */display: inline-block !important;position: relative;}#sk-container-id-16 div.sk-text-repr-fallback {display: none;}</style><div id=\"sk-container-id-16\" class=\"sk-top-container\"><div class=\"sk-text-repr-fallback\"><pre>LogisticRegression()</pre><b>In a Jupyter environment, please rerun this cell to show the HTML representation or trust the notebook. <br />On GitHub, the HTML representation is unable to render, please try loading this page with nbviewer.org.</b></div><div class=\"sk-container\" hidden><div class=\"sk-item\"><div class=\"sk-estimator sk-toggleable\"><input class=\"sk-toggleable__control sk-hidden--visually\" id=\"sk-estimator-id-16\" type=\"checkbox\" checked><label for=\"sk-estimator-id-16\" class=\"sk-toggleable__label sk-toggleable__label-arrow\">LogisticRegression</label><div class=\"sk-toggleable__content\"><pre>LogisticRegression()</pre></div></div></div></div></div>"
      ],
      "text/plain": [
       "LogisticRegression()"
      ]
     },
     "execution_count": 237,
     "metadata": {},
     "output_type": "execute_result"
    }
   ],
   "source": [
    "lr.fit(X_train,y_train)\n",
    "lr_scaled.fit(X_train_scaled,y_train)"
   ]
  },
  {
   "cell_type": "code",
   "execution_count": 238,
   "id": "efb398b0",
   "metadata": {},
   "outputs": [],
   "source": [
    "y_pred = lr.predict(X_test)\n",
    "y_pred_scaled = lr_scaled.predict(X_test_scaled)"
   ]
  },
  {
   "cell_type": "code",
   "execution_count": 239,
   "id": "9d737a8a",
   "metadata": {},
   "outputs": [],
   "source": [
    "from sklearn.metrics import accuracy_score"
   ]
  },
  {
   "cell_type": "code",
   "execution_count": 240,
   "id": "91bc2098",
   "metadata": {},
   "outputs": [
    {
     "name": "stdout",
     "output_type": "stream",
     "text": [
      "Actual 0.6916666666666667\n",
      "Scaled 0.30833333333333335\n"
     ]
    }
   ],
   "source": [
    "print(\"Actual\",accuracy_score(y_test,y_pred))\n",
    "print(\"Scaled\",accuracy_score(y_test,y_pred_scaled))"
   ]
  },
  {
   "cell_type": "code",
   "execution_count": 241,
   "id": "f05f695c",
   "metadata": {},
   "outputs": [
    {
     "data": {
      "text/plain": [
       "0.30833333333333335"
      ]
     },
     "execution_count": 241,
     "metadata": {},
     "output_type": "execute_result"
    }
   ],
   "source": [
    "accuracy_score(y_hat_scaled,y_test)"
   ]
  },
  {
   "cell_type": "code",
   "execution_count": 242,
   "id": "e6431fc5",
   "metadata": {},
   "outputs": [],
   "source": [
    "from sklearn.tree import DecisionTreeClassifier"
   ]
  },
  {
   "cell_type": "code",
   "execution_count": 243,
   "id": "df4ad2ee",
   "metadata": {},
   "outputs": [],
   "source": [
    "dt = DecisionTreeClassifier()\n",
    "dt_scaled = DecisionTreeClassifier()"
   ]
  },
  {
   "cell_type": "code",
   "execution_count": 244,
   "id": "5ba924dc",
   "metadata": {},
   "outputs": [
    {
     "data": {
      "text/html": [
       "<style>#sk-container-id-17 {color: black;background-color: white;}#sk-container-id-17 pre{padding: 0;}#sk-container-id-17 div.sk-toggleable {background-color: white;}#sk-container-id-17 label.sk-toggleable__label {cursor: pointer;display: block;width: 100%;margin-bottom: 0;padding: 0.3em;box-sizing: border-box;text-align: center;}#sk-container-id-17 label.sk-toggleable__label-arrow:before {content: \"▸\";float: left;margin-right: 0.25em;color: #696969;}#sk-container-id-17 label.sk-toggleable__label-arrow:hover:before {color: black;}#sk-container-id-17 div.sk-estimator:hover label.sk-toggleable__label-arrow:before {color: black;}#sk-container-id-17 div.sk-toggleable__content {max-height: 0;max-width: 0;overflow: hidden;text-align: left;background-color: #f0f8ff;}#sk-container-id-17 div.sk-toggleable__content pre {margin: 0.2em;color: black;border-radius: 0.25em;background-color: #f0f8ff;}#sk-container-id-17 input.sk-toggleable__control:checked~div.sk-toggleable__content {max-height: 200px;max-width: 100%;overflow: auto;}#sk-container-id-17 input.sk-toggleable__control:checked~label.sk-toggleable__label-arrow:before {content: \"▾\";}#sk-container-id-17 div.sk-estimator input.sk-toggleable__control:checked~label.sk-toggleable__label {background-color: #d4ebff;}#sk-container-id-17 div.sk-label input.sk-toggleable__control:checked~label.sk-toggleable__label {background-color: #d4ebff;}#sk-container-id-17 input.sk-hidden--visually {border: 0;clip: rect(1px 1px 1px 1px);clip: rect(1px, 1px, 1px, 1px);height: 1px;margin: -1px;overflow: hidden;padding: 0;position: absolute;width: 1px;}#sk-container-id-17 div.sk-estimator {font-family: monospace;background-color: #f0f8ff;border: 1px dotted black;border-radius: 0.25em;box-sizing: border-box;margin-bottom: 0.5em;}#sk-container-id-17 div.sk-estimator:hover {background-color: #d4ebff;}#sk-container-id-17 div.sk-parallel-item::after {content: \"\";width: 100%;border-bottom: 1px solid gray;flex-grow: 1;}#sk-container-id-17 div.sk-label:hover label.sk-toggleable__label {background-color: #d4ebff;}#sk-container-id-17 div.sk-serial::before {content: \"\";position: absolute;border-left: 1px solid gray;box-sizing: border-box;top: 0;bottom: 0;left: 50%;z-index: 0;}#sk-container-id-17 div.sk-serial {display: flex;flex-direction: column;align-items: center;background-color: white;padding-right: 0.2em;padding-left: 0.2em;position: relative;}#sk-container-id-17 div.sk-item {position: relative;z-index: 1;}#sk-container-id-17 div.sk-parallel {display: flex;align-items: stretch;justify-content: center;background-color: white;position: relative;}#sk-container-id-17 div.sk-item::before, #sk-container-id-17 div.sk-parallel-item::before {content: \"\";position: absolute;border-left: 1px solid gray;box-sizing: border-box;top: 0;bottom: 0;left: 50%;z-index: -1;}#sk-container-id-17 div.sk-parallel-item {display: flex;flex-direction: column;z-index: 1;position: relative;background-color: white;}#sk-container-id-17 div.sk-parallel-item:first-child::after {align-self: flex-end;width: 50%;}#sk-container-id-17 div.sk-parallel-item:last-child::after {align-self: flex-start;width: 50%;}#sk-container-id-17 div.sk-parallel-item:only-child::after {width: 0;}#sk-container-id-17 div.sk-dashed-wrapped {border: 1px dashed gray;margin: 0 0.4em 0.5em 0.4em;box-sizing: border-box;padding-bottom: 0.4em;background-color: white;}#sk-container-id-17 div.sk-label label {font-family: monospace;font-weight: bold;display: inline-block;line-height: 1.2em;}#sk-container-id-17 div.sk-label-container {text-align: center;}#sk-container-id-17 div.sk-container {/* jupyter's `normalize.less` sets `[hidden] { display: none; }` but bootstrap.min.css set `[hidden] { display: none !important; }` so we also need the `!important` here to be able to override the default hidden behavior on the sphinx rendered scikit-learn.org. See: https://github.com/scikit-learn/scikit-learn/issues/21755 */display: inline-block !important;position: relative;}#sk-container-id-17 div.sk-text-repr-fallback {display: none;}</style><div id=\"sk-container-id-17\" class=\"sk-top-container\"><div class=\"sk-text-repr-fallback\"><pre>DecisionTreeClassifier()</pre><b>In a Jupyter environment, please rerun this cell to show the HTML representation or trust the notebook. <br />On GitHub, the HTML representation is unable to render, please try loading this page with nbviewer.org.</b></div><div class=\"sk-container\" hidden><div class=\"sk-item\"><div class=\"sk-estimator sk-toggleable\"><input class=\"sk-toggleable__control sk-hidden--visually\" id=\"sk-estimator-id-17\" type=\"checkbox\" checked><label for=\"sk-estimator-id-17\" class=\"sk-toggleable__label sk-toggleable__label-arrow\">DecisionTreeClassifier</label><div class=\"sk-toggleable__content\"><pre>DecisionTreeClassifier()</pre></div></div></div></div></div>"
      ],
      "text/plain": [
       "DecisionTreeClassifier()"
      ]
     },
     "execution_count": 244,
     "metadata": {},
     "output_type": "execute_result"
    }
   ],
   "source": [
    "dt.fit(X_train,y_train)\n",
    "dt_scaled.fit(X_train_scaled,y_train)"
   ]
  },
  {
   "cell_type": "code",
   "execution_count": 245,
   "id": "6ed16514",
   "metadata": {},
   "outputs": [],
   "source": [
    "y_pred = dt.predict(X_test)\n",
    "y_pred_scaled = dt_scaled.predict(X_test_scaled)"
   ]
  },
  {
   "cell_type": "code",
   "execution_count": 246,
   "id": "aa2ca281",
   "metadata": {},
   "outputs": [
    {
     "name": "stdout",
     "output_type": "stream",
     "text": [
      "Actual 0.875\n",
      "Scaled 0.30833333333333335\n"
     ]
    }
   ],
   "source": [
    "print(\"Actual\",accuracy_score(y_test,y_pred))\n",
    "print(\"Scaled\",accuracy_score(y_test,y_pred_scaled))"
   ]
  },
  {
   "cell_type": "code",
   "execution_count": null,
   "id": "dcc94f6d",
   "metadata": {},
   "outputs": [],
   "source": []
  },
  {
   "cell_type": "code",
   "execution_count": 247,
   "id": "1de44531",
   "metadata": {},
   "outputs": [],
   "source": [
    "df = df.append(pd.DataFrame({'Age':[5,90,95],'EstimatedSalary':[1000,250000,350000],'Purchased':[0,1,1]}),ignore_index=True)"
   ]
  },
  {
   "cell_type": "code",
   "execution_count": 248,
   "id": "d098e471",
   "metadata": {},
   "outputs": [
    {
     "data": {
      "text/plain": [
       "<matplotlib.collections.PathCollection at 0x252abc7dd80>"
      ]
     },
     "execution_count": 248,
     "metadata": {},
     "output_type": "execute_result"
    },
    {
     "data": {
      "image/png": "[encoded data removed]",
      "text/plain": [
       "<Figure size 432x288 with 1 Axes>"
      ]
     },
     "metadata": {
      "needs_background": "light"
     },
     "output_type": "display_data"
    }
   ],
   "source": [
    "plt.scatter(df['Age'], df['EstimatedSalary'])"
   ]
  },
  {
   "cell_type": "code",
   "execution_count": 249,
   "id": "d69d6b49",
   "metadata": {},
   "outputs": [
    {
     "data": {
      "text/plain": [
       "((282, 2), (121, 2))"
      ]
     },
     "execution_count": 249,
     "metadata": {},
     "output_type": "execute_result"
    }
   ],
   "source": [
    "from sklearn.model_selection import train_test_split\n",
    "X_train, X_test, y_train, y_test = train_test_split(df.drop('Purchased', axis=1),\n",
    "                                                    df['Purchased'],\n",
    "                                                    test_size=0.3,\n",
    "                                                    random_state=0)\n",
    "\n",
    "X_train.shape, X_test.shape"
   ]
  },
  {
   "cell_type": "code",
   "execution_count": 250,
   "id": "93133249",
   "metadata": {},
   "outputs": [],
   "source": [
    "from sklearn.preprocessing import StandardScaler\n",
    "\n",
    "scaler = StandardScaler()\n",
    "\n",
    "# fit the scaler to the train set, it will learn the parameters\n",
    "scaler.fit(X_train)\n",
    "\n",
    "# transform train and test sets\n",
    "X_train_scaled = scaler.transform(X_train)\n",
    "X_test_scaled = scaler.transform(X_test)"
   ]
  },
  {
   "cell_type": "code",
   "execution_count": 251,
   "id": "6e83085f",
   "metadata": {},
   "outputs": [],
   "source": [
    "X_train_scaled = pd.DataFrame(X_train_scaled, columns=X_train.columns)\n",
    "X_test_scaled = pd.DataFrame(X_test_scaled, columns=X_test.columns)"
   ]
  },
  {
   "cell_type": "code",
   "execution_count": 252,
   "id": "7dd6093b",
   "metadata": {},
   "outputs": [
    {
     "data": {
      "image/png": "[encoded data removed]",
      "text/plain": [
       "<Figure size 864x360 with 2 Axes>"
      ]
     },
     "metadata": {
      "needs_background": "light"
     },
     "output_type": "display_data"
    }
   ],
   "source": [
    "fig, (ax1, ax2) = plt.subplots(ncols=2, figsize=(12, 5))\n",
    "\n",
    "ax1.scatter(X_train['Age'], X_train['EstimatedSalary'])\n",
    "ax1.set_title(\"Before Scaling\")\n",
    "ax2.scatter(X_train_scaled['Age'], X_train_scaled['EstimatedSalary'],color='red')\n",
    "ax2.set_title(\"After Scaling\")\n",
    "plt.show()"
   ]
  },
  {
   "cell_type": "code",
   "execution_count": null,
   "id": "017462a7",
   "metadata": {},
   "outputs": [],
   "source": []
  }
 ],
 "metadata": {
  "kernelspec": {
   "display_name": "Python 3 (ipykernel)",
   "language": "python",
   "name": "python3"
  },
  "language_info": {
   "codemirror_mode": {
    "name": "ipython",
    "version": 3
   },
   "file_extension": ".py",
   "mimetype": "text/x-python",
   "name": "python",
   "nbconvert_exporter": "python",
   "pygments_lexer": "ipython3",
   "version": "3.10.6"
  }
 },
 "nbformat": 4,
 "nbformat_minor": 5
}
