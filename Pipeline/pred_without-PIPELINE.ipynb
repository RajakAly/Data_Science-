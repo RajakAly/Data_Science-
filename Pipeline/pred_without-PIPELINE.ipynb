{
 "cells": [
  {
   "cell_type": "code",
   "execution_count": 1,
   "id": "29b93d0d",
   "metadata": {},
   "outputs": [],
   "source": [
    "import pickle\n",
    "import numpy as np"
   ]
  },
  {
   "cell_type": "code",
   "execution_count": 2,
   "id": "e807126a",
   "metadata": {},
   "outputs": [],
   "source": [
    "ohe_sex=pickle.load(open(r'C:\\Users\\rajak\\OneDrive\\Documents\\DATA\\MACHINE_lEARNING\\Feature_Engineering\\Pipeline\\ohe_sex.pkl','rb'))\n",
    "ohe_embarked=pickle.load(open(r'C:\\Users\\rajak\\OneDrive\\Documents\\DATA\\MACHINE_lEARNING\\Feature_Engineering\\Pipeline\\ohe_embarked.pkl','rb'))\n",
    "clf=pickle.load(open(r'C:\\Users\\rajak\\OneDrive\\Documents\\DATA\\MACHINE_lEARNING\\Feature_Engineering\\Pipeline\\clf.pkl','rb'))"
   ]
  },
  {
   "cell_type": "code",
   "execution_count": 11,
   "id": "fb157416",
   "metadata": {},
   "outputs": [],
   "source": [
    "##user input:Pclass\tSex\tAge\tSibSp\tParch\tFare\tEmbarked\n",
    "test_input=np.array([3,'male',22,1,0,7.25,'S'],dtype='object').reshape(1,7)"
   ]
  },
  {
   "cell_type": "code",
   "execution_count": 12,
   "id": "0aeec542",
   "metadata": {},
   "outputs": [
    {
     "data": {
      "text/plain": [
       "array([[3, 'male', 22, 1, 0, 7.25, 'S']], dtype=object)"
      ]
     },
     "execution_count": 12,
     "metadata": {},
     "output_type": "execute_result"
    }
   ],
   "source": [
    "test_input"
   ]
  },
  {
   "cell_type": "code",
   "execution_count": 20,
   "id": "c94bb837",
   "metadata": {},
   "outputs": [
    {
     "name": "stderr",
     "output_type": "stream",
     "text": [
      "C:\\Users\\rajak\\AppData\\Local\\Programs\\Python\\Python310\\lib\\site-packages\\sklearn\\base.py:450: UserWarning: X does not have valid feature names, but OneHotEncoder was fitted with feature names\n",
      "  warnings.warn(\n"
     ]
    }
   ],
   "source": [
    "test_input_sex=ohe_sex.transform(test_input[:,1].reshape(1,1))"
   ]
  },
  {
   "cell_type": "code",
   "execution_count": 22,
   "id": "cd94e334",
   "metadata": {},
   "outputs": [
    {
     "data": {
      "text/plain": [
       "array([[0., 1.]])"
      ]
     },
     "execution_count": 22,
     "metadata": {},
     "output_type": "execute_result"
    }
   ],
   "source": [
    "test_input_sex"
   ]
  },
  {
   "cell_type": "code",
   "execution_count": 24,
   "id": "0b10c332",
   "metadata": {},
   "outputs": [],
   "source": [
    "test_input_embarked=ohe_embarked.transform(test_input[:,-1].reshape(1,1))"
   ]
  },
  {
   "cell_type": "code",
   "execution_count": 25,
   "id": "8bfdafac",
   "metadata": {},
   "outputs": [
    {
     "data": {
      "text/plain": [
       "array([[0., 0., 1.]])"
      ]
     },
     "execution_count": 25,
     "metadata": {},
     "output_type": "execute_result"
    }
   ],
   "source": [
    "test_input_embarked"
   ]
  },
  {
   "cell_type": "code",
   "execution_count": 26,
   "id": "3a3004b6",
   "metadata": {},
   "outputs": [],
   "source": [
    "test_input_age=test_input[:,2].reshape(1,1)"
   ]
  },
  {
   "cell_type": "code",
   "execution_count": 30,
   "id": "cb2c7130",
   "metadata": {},
   "outputs": [
    {
     "data": {
      "text/plain": [
       "array([[22]], dtype=object)"
      ]
     },
     "execution_count": 30,
     "metadata": {},
     "output_type": "execute_result"
    }
   ],
   "source": [
    "test_input_age\n"
   ]
  },
  {
   "cell_type": "code",
   "execution_count": 29,
   "id": "1c6851a6",
   "metadata": {},
   "outputs": [
    {
     "data": {
      "text/plain": [
       "array([[3, 1, 0, 7.25]], dtype=object)"
      ]
     },
     "execution_count": 29,
     "metadata": {},
     "output_type": "execute_result"
    }
   ],
   "source": [
    "test_input[:,[0,3,4,5]]"
   ]
  },
  {
   "cell_type": "code",
   "execution_count": 37,
   "id": "f2002621",
   "metadata": {},
   "outputs": [],
   "source": [
    "test_input_transformed=np.concatenate((test_input[:,[0,3,4,5]],test_input_age,test_input_sex,test_input_embarked),axis=1)"
   ]
  },
  {
   "cell_type": "code",
   "execution_count": 38,
   "id": "3119c637",
   "metadata": {},
   "outputs": [
    {
     "data": {
      "text/plain": [
       "(1, 10)"
      ]
     },
     "execution_count": 38,
     "metadata": {},
     "output_type": "execute_result"
    }
   ],
   "source": [
    "test_input_transformed.shape"
   ]
  },
  {
   "cell_type": "code",
   "execution_count": 39,
   "id": "52a56c0b",
   "metadata": {},
   "outputs": [
    {
     "data": {
      "text/plain": [
       "array([0], dtype=int64)"
      ]
     },
     "execution_count": 39,
     "metadata": {},
     "output_type": "execute_result"
    }
   ],
   "source": [
    "clf.predict(test_input_transformed)"
   ]
  },
  {
   "cell_type": "code",
   "execution_count": 40,
   "id": "8b6ecc6c",
   "metadata": {},
   "outputs": [],
   "source": [
    "#Here maintaing the production code is very much much difficult.Different steps has to perform in speciofic order \n",
    "#Error in any steps may lead to the wrong prediction"
   ]
  },
  {
   "cell_type": "code",
   "execution_count": null,
   "id": "bb9b8226",
   "metadata": {},
   "outputs": [],
   "source": []
  }
 ],
 "metadata": {
  "kernelspec": {
   "display_name": "Python 3 (ipykernel)",
   "language": "python",
   "name": "python3"
  },
  "language_info": {
   "codemirror_mode": {
    "name": "ipython",
    "version": 3
   },
   "file_extension": ".py",
   "mimetype": "text/x-python",
   "name": "python",
   "nbconvert_exporter": "python",
   "pygments_lexer": "ipython3",
   "version": "3.10.6"
  }
 },
 "nbformat": 4,
 "nbformat_minor": 5
}
